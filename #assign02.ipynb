{
 "cells": [
  {
   "cell_type": "markdown",
   "id": "04b4fdf9-3076-4881-b6a9-a07f164c641b",
   "metadata": {},
   "source": [
    " Q1.How do you comment code in Python? What are the different types of comments?"
   ]
  },
  {
   "cell_type": "markdown",
   "id": "2bc18072-73b7-413d-895f-03c46e100313",
   "metadata": {},
   "source": [
    "In Python, you can add comments to your code to provide explanations, notes, or documentation that are ignored by the Python interpreter \n",
    "when the code is executed. Comments are a useful way to make your code more readable and to help others (or your future self) understand\n",
    "the purpose and logic of your code.\n",
    "\n",
    "There are two main types of comments in Python:\n",
    "1.Single-line comments:\n",
    "Single-line comments are used to add comments on a single line. In Python, you can create single-line comments using the # symbol. Anything after the # symbol on a line is treated as a comment and is ignored by the Python interpreter\n",
    "\n",
    "2.Multi-line comments (docstrings):\n",
    "Multi-line comments, also known as docstrings, are used for documenting functions, classes, and modules. Docstrings can span multiple lines and are enclosed in triple quotes (''' or \"\"\"). While they are not traditional comments, they serve a similar purpose by providing documentation for your code.."
   ]
  },
  {
   "cell_type": "code",
   "execution_count": 1,
   "id": "a7c1ecfd-0282-4079-8855-8bac65d0bd3e",
   "metadata": {},
   "outputs": [
    {
     "name": "stdout",
     "output_type": "stream",
     "text": [
      "Hello, World!\n"
     ]
    }
   ],
   "source": [
    "# This is a single-line comment\n",
    "print(\"Hello, World!\")  # This is another single-line comment\n"
   ]
  },
  {
   "cell_type": "code",
   "execution_count": 5,
   "id": "832de441-566e-4615-9da0-62786a9ac9d1",
   "metadata": {},
   "outputs": [
    {
     "name": "stdout",
     "output_type": "stream",
     "text": [
      "99\n"
     ]
    }
   ],
   "source": [
    "a=45\n",
    "b=54\n",
    "'''\n",
    "    This function adds two numbers.\n",
    "\n",
    "    Parameters:\n",
    "    a (int): The first number.\n",
    "    b (int): The second number.\n",
    "\n",
    "    Returns:\n",
    "    int: The sum of the two numbers.\n",
    "'''\n",
    "print(a+b)"
   ]
  },
  {
   "cell_type": "markdown",
   "id": "b19d7920-d5ca-40a6-9de9-dd80f6d68571",
   "metadata": {},
   "source": [
    "Q2. What are variables in Python? How do you declare and assign values to variables?"
   ]
  },
  {
   "cell_type": "markdown",
   "id": "c941040f-93fd-4e40-945e-91ace63c5834",
   "metadata": {},
   "source": [
    "In Python, variables are used to store and manipulate data. Variables are like containers that hold values, and these values can be of various data types such as numbers, text, lists, and more. You can perform operations and calculations on these variables to create dynamic and interactive programs.\n",
    "\n",
    "1.Variable Declaration:\n",
    "To declare a variable in Python, you simply choose a name for the variable and use the = operator to assign a value to it. Variable names should follow certain rules:\n",
    "\n",
    "Variable names can only contain letters, numbers, and underscores.\n",
    "They must start with a letter or an underscore.\n",
    "Variable names are case-sensitive, meaning myVar and myvar are considered different varia\n",
    "\n",
    "2.Assigning Values:\n",
    "You can change the value of a variable by assigning a new value to it. Python allows you to change the data type of a variable at runtime, as it dynamically infers the data type.bles."
   ]
  },
  {
   "cell_type": "markdown",
   "id": "7adeccb4-1b3c-4853-a6d1-7e8f0cf6a346",
   "metadata": {},
   "source": [
    " Example for declaring and assigning value."
   ]
  },
  {
   "cell_type": "code",
   "execution_count": 7,
   "id": "967d9dc8-b5d5-427c-8a66-6fd673c8d8e6",
   "metadata": {},
   "outputs": [],
   "source": [
    "# Declaring and initializing an integer variable\n",
    "age = 25\n",
    "\n",
    "# Declaring and initializing a string variable\n",
    "name = \"John Smith\"\n",
    "\n",
    "# Declaring and initializing a floating-point variable\n",
    "salary = 45000.50\n",
    "\n",
    "# Declaring and initializing a list variable\n",
    "fruits = [\"apple\", \"banana\", \"cherry\"]\n"
   ]
  },
  {
   "cell_type": "code",
   "execution_count": 8,
   "id": "1895bba9-fc5d-407b-8e70-be77acdb0d34",
   "metadata": {},
   "outputs": [],
   "source": [
    "age = 25  # Declaring and initializing age\n",
    "age = 26  # Reassigning a new value to age\n",
    "\n",
    "name = \"John Smith\"  # Declaring and initializing name\n",
    "name = \"Alice Johnson\"  # Reassigning a new value to name\n",
    "\n",
    "salary = 45000.50  # Declaring and initializing salary\n",
    "salary = \"Not available\"  # Reassigning a new value with a different data type\n"
   ]
  },
  {
   "cell_type": "markdown",
   "id": "500f878c-77d5-4375-b12f-44f8ef48265b",
   "metadata": {},
   "source": [
    "Q3. How do you convert one data type to another in Python?\n",
    "\n",
    "Python defines type conversion functions like int(), float(), str() to directly convert one data type into another. \n",
    "This type of conversion is also called typecasting because the user casts (change) the data type of the objects"
   ]
  },
  {
   "cell_type": "markdown",
   "id": "d26e0cc9-641c-4622-803c-d66a868418e0",
   "metadata": {
    "jp-MarkdownHeadingCollapsed": true
   },
   "source": [
    "Q4.. How do you write and execute a Python script from the command line?\n",
    "\n",
    "\n",
    "To write and execute a Python script from the command line.\n",
    " you'll need a text editor to create the Python script and access to a command prompt or terminal to run it. Here are the basic steps:\n",
    "\n",
    "Step 1: Write the Python Script\n",
    "\n",
    "1.Open a text editor of your choice (e.g., Notepad on Windows, TextEdit on macOS, or a code editor like Visual Studio Code, Sublime Text, or Atom).\n",
    "\n",
    "2.Write your Python code in the text editor. For example, you can create a simple script that prints \"Hello, World!\" to the console:\n",
    "\n",
    "print(\"Hello, World!\")\n",
    "\n",
    "3.Save the file with a .py extension. In this case, save it as hello.py. Make sure you choose a location where you have write permissions.\n",
    "\n",
    "Step 2: Open a Command Prompt or Terminal\n",
    "\n",
    ".On Windows, you can open the Command Prompt by searching for \"cmd\" in the Start menu.\n",
    ".On macOS, you can open the Terminal from the Applications folder or by searching for it in Spotlight.\n",
    ".On Linux, you can open the Terminal by searching for it in your applications or by using keyboard shortcuts like Ctrl+Alt+T.\n",
    "\n",
    "Step 3: Navigate to the Script's Directory\n",
    "\n",
    "Use the cd command to navigate to the directory where your Python script is located. For example, if your script is on your desktop:\n",
    "\n",
    "cd Desktop\n",
    "\n",
    "Step 4: Execute the Python Script\n",
    "\n",
    "To execute the Python script, use the python command followed by the script's filename:\n",
    "\n",
    "python hello.py\n",
    "\n",
    "This command will run your hello.py script, and you should see the output \"Hello, World!\" displayed in the command prompt or terminal.\n",
    "\n",
    "If you have multiple Python versions installed, you may need to specify the version you want to use. For example:\n",
    "\n",
    "python3 hello.py\n",
    "\n",
    "\n",
    "That's it! You've successfully written and executed a Python script from the command line. You can replace the contents of your script with your own Python code to perform various tasks and calculations.\n",
    "\n",
    "\n",
    "\n",
    "\n",
    "\n",
    "\n"
   ]
  },
  {
   "cell_type": "markdown",
   "id": "65c4a488-03c5-4c3d-a435-699a34ed7b01",
   "metadata": {},
   "source": [
    "Q5. Given a list my_list = [1, 2, 3, 4, 5], write the code to slice the list and \n",
    "obtain the sub-list [2, 3]."
   ]
  },
  {
   "cell_type": "code",
   "execution_count": 4,
   "id": "c77950b8-8aa3-45ab-be6f-98c1286f0cbd",
   "metadata": {},
   "outputs": [
    {
     "name": "stdout",
     "output_type": "stream",
     "text": [
      "[2, 3]\n"
     ]
    }
   ],
   "source": [
    "my_list = [1, 2, 3, 4, 5]\n",
    "sl =my_list[1:3]\n",
    "print(sl)\n"
   ]
  },
  {
   "cell_type": "markdown",
   "id": "8b51c95c-0d45-4c22-86e2-bc8df5f5bbfe",
   "metadata": {},
   "source": [
    "Q6.What is a complex number in mathematics, and how is it represented in Python?"
   ]
  },
  {
   "cell_type": "markdown",
   "id": "98bf67e1-52d9-4128-8025-b31a85c674c9",
   "metadata": {},
   "source": [
    "In mathematics, a complex number is a number that can be expressed in the form a + bi, where a and b are real numbers, and i is the imaginary unit, defined as the square root of -1. The real part a represents the real portion of the complex number, and the imaginary part b represents the imaginary portion of the complex number. Complex numbers are a fundamental concept in mathematics and are used to represent quantities that have both a real and an imaginary component.\n",
    "\n",
    "In Python, complex numbers are represented using the j or J suffix to denote the imaginary unit. You can create a complex number in Python by simply combining a real part and an imaginary part using this notation. For example:"
   ]
  },
  {
   "cell_type": "code",
   "execution_count": 5,
   "id": "9b972123-c5e9-4642-b5ab-82f2151a90b5",
   "metadata": {},
   "outputs": [
    {
     "name": "stdout",
     "output_type": "stream",
     "text": [
      "(3+2j)\n"
     ]
    }
   ],
   "source": [
    "# Creating a complex number\n",
    "z = 3 + 2j\n",
    "\n",
    "# Printing the complex number\n",
    "print(z)\n"
   ]
  },
  {
   "cell_type": "markdown",
   "id": "30ce427d-9580-4f81-9dc9-e1a5f2058bcc",
   "metadata": {},
   "source": [
    "In the above code, 3 is the real part, and 2j is the imaginary part, so z represents the complex number 3 + 2j."
   ]
  },
  {
   "cell_type": "markdown",
   "id": "d2b493b5-b2f0-4a35-b739-9c5f34963c38",
   "metadata": {},
   "source": [
    "Q7. What is the correct way to declare a variable named age and assign the value 25 to it?"
   ]
  },
  {
   "cell_type": "code",
   "execution_count": 6,
   "id": "db7d2b7c-4f17-4202-b523-b2e317633fe7",
   "metadata": {},
   "outputs": [],
   "source": [
    "age=25\n",
    "#age  is variable name\n",
    "#25 is assigned in it"
   ]
  },
  {
   "cell_type": "code",
   "execution_count": 7,
   "id": "6314057a-705a-49c1-85fd-199b39269690",
   "metadata": {},
   "outputs": [
    {
     "name": "stdout",
     "output_type": "stream",
     "text": [
      "25\n"
     ]
    }
   ],
   "source": [
    "print(age)"
   ]
  },
  {
   "cell_type": "markdown",
   "id": "6d3a9d8a-693a-4960-9af3-e7228cc786b5",
   "metadata": {},
   "source": [
    "Q8. Declare a variable named price and assign the value 9.99 to it. What data type does this variable belong to."
   ]
  },
  {
   "cell_type": "code",
   "execution_count": 8,
   "id": "4553e19e-a925-4e3e-bc0a-cee4c52d9c27",
   "metadata": {},
   "outputs": [],
   "source": [
    "price = 9.99"
   ]
  },
  {
   "cell_type": "code",
   "execution_count": 9,
   "id": "a0fc94a3-95e6-4b91-9bf4-61d6a6e45ced",
   "metadata": {},
   "outputs": [
    {
     "data": {
      "text/plain": [
       "float"
      ]
     },
     "execution_count": 9,
     "metadata": {},
     "output_type": "execute_result"
    }
   ],
   "source": [
    "type(price)"
   ]
  },
  {
   "cell_type": "markdown",
   "id": "e1600d66-c98a-4951-b584-6eff8dd4ed74",
   "metadata": {},
   "source": [
    "Q9. Create a variable named name and assign your full name to it as a string. How would you print the value of this variable?"
   ]
  },
  {
   "cell_type": "code",
   "execution_count": 13,
   "id": "41830b15-75bc-4092-9955-1e6c4061b61e",
   "metadata": {},
   "outputs": [],
   "source": [
    "name = 'Reshad Alam'"
   ]
  },
  {
   "cell_type": "code",
   "execution_count": 14,
   "id": "3e8e6362-02a2-49ee-9a69-11eb9abcd447",
   "metadata": {},
   "outputs": [
    {
     "name": "stdout",
     "output_type": "stream",
     "text": [
      "Reshad Alam\n"
     ]
    }
   ],
   "source": [
    "print (name)"
   ]
  },
  {
   "cell_type": "markdown",
   "id": "6189efdb-faab-4131-b8bb-14ab9aead8f1",
   "metadata": {},
   "source": [
    "Q10.Given the string \"Hello, World!\", extract the substring \"World\""
   ]
  },
  {
   "cell_type": "code",
   "execution_count": 3,
   "id": "599f573a-28d7-4cd9-a6da-b70371b897a5",
   "metadata": {},
   "outputs": [
    {
     "name": "stdout",
     "output_type": "stream",
     "text": [
      "World\n"
     ]
    }
   ],
   "source": [
    "my_string = \"Hello, World!\"\n",
    "substring = my_string[7:12]\n",
    "print(substring)\n"
   ]
  },
  {
   "cell_type": "markdown",
   "id": "c5c00003-d888-4a03-b67a-8c9f9170a0e7",
   "metadata": {},
   "source": [
    "Q11. Create a variable named \"is_student\" and assign it a boolean value indicating whether you are currently a student or not."
   ]
  },
  {
   "cell_type": "code",
   "execution_count": null,
   "id": "d46c98af-5ace-4b1c-86a2-0378aebb58b7",
   "metadata": {},
   "outputs": [],
   "source": [
    "is_student = true\n",
    "is_stuudent = false"
   ]
  },
  {
   "cell_type": "code",
   "execution_count": null,
   "id": "52858102",
   "metadata": {},
   "outputs": [],
   "source": []
  }
 ],
 "metadata": {
  "kernelspec": {
   "display_name": "Python 3 (ipykernel)",
   "language": "python",
   "name": "python3"
  },
  "language_info": {
   "codemirror_mode": {
    "name": "ipython",
    "version": 3
   },
   "file_extension": ".py",
   "mimetype": "text/x-python",
   "name": "python",
   "nbconvert_exporter": "python",
   "pygments_lexer": "ipython3",
   "version": "3.11.5"
  }
 },
 "nbformat": 4,
 "nbformat_minor": 5
}
